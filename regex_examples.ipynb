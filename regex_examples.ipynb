{
  "nbformat": 4,
  "nbformat_minor": 0,
  "metadata": {
    "colab": {
      "name": "regex-examples.ipynb",
      "provenance": [],
      "collapsed_sections": [],
      "authorship_tag": "ABX9TyN6JP3m0xlcgsxMY/viOy+0",
      "include_colab_link": true
    },
    "kernelspec": {
      "name": "python3",
      "display_name": "Python 3"
    },
    "language_info": {
      "name": "python"
    }
  },
  "cells": [
    {
      "cell_type": "markdown",
      "metadata": {
        "id": "view-in-github",
        "colab_type": "text"
      },
      "source": [
        "<a href=\"https://colab.research.google.com/github/Hanalia/Colab_Projects/blob/main/regex_examples.ipynb\" target=\"_parent\"><img src=\"https://colab.research.google.com/assets/colab-badge.svg\" alt=\"Open In Colab\"/></a>"
      ]
    },
    {
      "cell_type": "code",
      "execution_count": null,
      "metadata": {
        "id": "9pXTYXVJNHkR"
      },
      "outputs": [],
      "source": [
        "\n",
        "## 두 문자 사이를 뽑아내는 유형\n",
        "\n",
        "\n",
        "import re\n",
        "s = 'Part 1. Part 2. Part 3 then more text'\n",
        "re.search(r'P art 1(.*?)Part3', s).group(1)"
      ]
    },
    {
      "cell_type": "code",
      "source": [
        "multiline_string = '''                 <ul class=\"list_text_common\">\n",
        "                 \t<li>당첨금 지급기한 : 지급개시일로부터 1년 (휴일인 경우 익영업일)</li>\n",
        "\t\t\t\t\t<li>총판매금액 : <strong>102,396,369,000원</strong></li>'''\n",
        "s = 'Part 1. Part 2. Part 3 then more text'\n",
        "re.search(r'<li>총판매금액 : <strong>(.*?)원</strong>', multiline_string).group(1)         "
      ],
      "metadata": {
        "id": "Id6a_DNcNuj_"
      },
      "execution_count": null,
      "outputs": []
    }
  ]
}