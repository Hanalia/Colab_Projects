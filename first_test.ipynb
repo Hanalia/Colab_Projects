{
  "nbformat": 4,
  "nbformat_minor": 0,
  "metadata": {
    "colab": {
      "name": "first_test.ipynb",
      "provenance": [],
      "authorship_tag": "ABX9TyPRjVsiLmKJhpWDL4Ssg3MR",
      "include_colab_link": true
    },
    "kernelspec": {
      "name": "python3",
      "display_name": "Python 3"
    },
    "language_info": {
      "name": "python"
    }
  },
  "cells": [
    {
      "cell_type": "markdown",
      "metadata": {
        "id": "view-in-github",
        "colab_type": "text"
      },
      "source": [
        "<a href=\"https://colab.research.google.com/github/Hanalia/Colab_Projects/blob/main/first_test.ipynb\" target=\"_parent\"><img src=\"https://colab.research.google.com/assets/colab-badge.svg\" alt=\"Open In Colab\"/></a>"
      ]
    },
    {
      "cell_type": "code",
      "execution_count": 1,
      "metadata": {
        "id": "5kTwm9mgBXCT",
        "outputId": "8fec26a4-431b-4b6e-fa07-734c987b41ab",
        "colab": {
          "base_uri": "https://localhost:8080/"
        }
      },
      "outputs": [
        {
          "output_type": "stream",
          "name": "stdout",
          "text": [
            "1\n",
            "2\n",
            "3\n",
            "4\n",
            "4\n",
            "5\n"
          ]
        }
      ],
      "source": [
        "mylist = [1,2,3,4,4,5]\n",
        "\n",
        "for i in mylist:\n",
        "  print(i)"
      ]
    }
  ]
}